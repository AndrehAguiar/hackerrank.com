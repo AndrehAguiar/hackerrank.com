{
 "cells": [
  {
   "cell_type": "markdown",
   "metadata": {},
   "source": [
    "## BOT - Save the Princess Peach\n",
    "Princess Peach is trapped in one of the four corners of a square grid. You are in the center of the grid and can move one step at a time in any of the four directions. Can you rescue the princess?"
    "### Input format"
     "The first line contains an odd integer N (3 <= N < 100) denoting the size of the grid. This is followed by an NxN grid. Each cell is denoted by '-' (ascii value: 45). The bot position is denoted by 'm' and the princess position is denoted by 'p'."
     "Grid is indexed using [Matrix Convention](https://www.hackerrank.com/scoring/board-convention)"
     "### Output format"
     "Print out the moves you will take to rescue the princess in one go. The moves must be separated by '\n', a newline. The valid moves are LEFT or RIGHT or UP or DOWN."
     "### Sample input"
     "3"
     "---"
     "-m-"
     "p--"
     "### Sample output"
     "DOWN"
     "LEFT <br />"
     "### Task"
     "Complete the function displayPathtoPrincess which takes in two parameters - the integer N and the character array grid. The grid will be formatted exactly as you see it in the input, so for the sample input the princess is at grid[2][0]. The function shall output moves (LEFT, RIGHT, UP or DOWN) on consecutive lines to rescue/reach the princess. The goal is to reach the princess in as few moves as possible."
     "The above sample input is just to help you understand the format. The princess ('p') can be in any one of the four corners."
     "### Scoring"
     "Your score is calculated as follows : (NxN - number of moves made to rescue the princess)/10, where N is the size of the grid (3x3 in the sample testcase)."
   ]
  },
  {
   "cell_type": "markdown",
   "metadata": {},
   "source": [
    "### Import libraries"
   ]
  },
  {
   "cell_type": "code",
   "execution_count": 1,
   "metadata": {},
   "outputs": [],
   "source": [
    "import random as rd"
   ]
  },
  {
   "cell_type": "markdown",
   "metadata": {},
   "source": [
    "### Function to define the steps at the Princess"
   ]
  },
  {
   "cell_type": "code",
   "execution_count": 2,
   "metadata": {
    "scrolled": true
   },
   "outputs": [],
   "source": [
    "def displayPathtoPrincess(n, grid, row, col):\n",
    "    x,y=0,0\n",
    "    for i in range(n):\n",
    "        for j in range(n):\n",
    "            x:x=(j-(n//2)) if grid[i][j] == 'p' else x\n",
    "            y:y=(i-(n//2)) if grid[i][j] == 'p' else y    \n",
    "    \n",
    "    #l,k = x+abs(x),y+abs(y) ##Get princess position to test\n",
    "    #print('DOWN\\n'*abs(y)if y > 0 and x > 0 or x < 0 and y > 0 else 'UP\\n'*abs(y), end='') ## Print each step row\n",
    "    #print('LEFT\\n'*abs(x)if x < 0 and y < 0 or x < 0 and y > 0 else 'RIGTH\\n'*abs(x)) ## Print each step col\n",
    "    \n",
    "    r_side:r_side = 'DOWN' if y > 0 and x > 0 or x < 0 and y > 0 else 'UP'\n",
    "    c_side:c_side = 'LEFT' if x < 0 and y < 0 or x < 0 and y > 0 else 'RIGTH'\n",
    "    row += 1*abs(y) if y != 0 else row\n",
    "        \n",
    "    if x != 0:\n",
    "        col += 1*abs(x)\n",
    "    \n",
    "    return(r_side,row,c_side,col)\n",
    "    \n",
    "    #return(grid[k][l]) ## Return Princess position"
   ]
  },
  {
   "cell_type": "markdown",
   "metadata": {},
   "source": [
    "### Function to print the grid"
   ]
  },
  {
   "cell_type": "code",
   "execution_count": 3,
   "metadata": {},
   "outputs": [],
   "source": [
    "def printGrid(n, p ,m, row, col):\n",
    "    for j in range(n):\n",
    "        s:s= 'p'+'-'*(n-1) if p[0]==0 and p[1]==n-1 and p[1]==j or p[0]==0 and p[1]==0 and p[1]==j  else '-'*n\n",
    "        s:s= '-'*(n-1)+'p' if p[0]==n-1 and p[1]==n-1 and p[1]==j or p[0]==n-1 and p[1]==0 and p[1]==j else s\n",
    "        s:s= '-'*j+'m'+'-'*j if j == n//2 else s\n",
    "        grid.append(s.strip())\n",
    "    print(*grid,sep='\\n')\n",
    "    \n",
    "    r_side, row, c_side, col = displayPathtoPrincess(n, grid, row, col) ## Call steps to princess function\n",
    "    return(grid, r_side, row, c_side, col)"
   ]
  },
  {
   "cell_type": "markdown",
   "metadata": {},
   "source": [
    "### Start BOT"
   ]
  },
  {
   "cell_type": "code",
   "execution_count": 4,
   "metadata": {
    "scrolled": true
   },
   "outputs": [
    {
     "name": "stdout",
     "output_type": "stream",
     "text": [
      "p--------------\n",
      "---------------\n",
      "---------------\n",
      "---------------\n",
      "---------------\n",
      "---------------\n",
      "---------------\n",
      "-------m-------\n",
      "---------------\n",
      "---------------\n",
      "---------------\n",
      "---------------\n",
      "---------------\n",
      "---------------\n",
      "---------------\n"
     ]
    }
   ],
   "source": [
    "#i = 0 ##Declare counter\n",
    "\n",
    "row,col=0,0\n",
    "\n",
    "#arr_test = [] Test results list\n",
    "\n",
    "#while i < 100: ## Loop for test success\n",
    "\n",
    "n = rd.randrange(3,100,2)\n",
    "p = rd.choices([0,n-1],k=2)\n",
    "m = [n//2,n//2]\n",
    "grid = []\n",
    "\n",
    "grid,r_side,row,c_side,col = printGrid(n, p ,m, row, col)\n",
    "#arr_test.append(test=='p') ## Add each test result\n",
    "#i+=1 ## Increment loop counter\n",
    "#print(arr_test.count(True)) Print the test result"
   ]
  },
  {
   "cell_type": "markdown",
   "metadata": {},
   "source": [
    "### Print steps to rescue the Princess"
   ]
  },
  {
   "cell_type": "code",
   "execution_count": 5,
   "metadata": {},
   "outputs": [
    {
     "name": "stdout",
     "output_type": "stream",
     "text": [
      "UP 7X\n",
      "LEFT 7X\n"
     ]
    }
   ],
   "source": [
    "print(r_side,str(row)+'X')\n",
    "print(c_side,str(col)+'X')"
   ]
  }
 ],
 "metadata": {
  "kernelspec": {
   "display_name": "Python 3",
   "language": "python",
   "name": "python3"
  },
  "language_info": {
   "codemirror_mode": {
    "name": "ipython",
    "version": 3
   },
   "file_extension": ".py",
   "mimetype": "text/x-python",
   "name": "python",
   "nbconvert_exporter": "python",
   "pygments_lexer": "ipython3",
   "version": "3.7.6"
  }
 },
 "nbformat": 4,
 "nbformat_minor": 4
}
