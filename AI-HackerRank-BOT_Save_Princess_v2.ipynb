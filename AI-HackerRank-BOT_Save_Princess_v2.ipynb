{
 "cells": [
  {
   "cell_type": "markdown",
   "metadata": {},
   "source": [
    "## Bot saves princess - 2\n",
    "In this version of \"Bot saves princess\", Princess Peach and bot's position are randomly set. Can you save the princess?\n",
    "### Input format\n",
    "The first line of the input is N (<100), the size of the board (NxN). The second line of the input contains two space separated integers, which is the position of the bot.<br />\n",
    "Grid is indexed using [Matrix Convention](https://www.hackerrank.com/scoring/board-convention)\n",
    "The position of the princess is indicated by the character 'p' and the position of the bot is indicated by the character 'm' and each cell is denoted by '-' (ascii value: 45).\n",
    "### Output format\n",
    "Output only the next move you take to rescue the princess. Valid moves are LEFT, RIGHT, UP or DOWN.\n",
    "### Sample input\n",
    "<p>\n",
    "5<br />\n",
    "2 3<br />\n",
    "-----<br />\n",
    "-----<br />\n",
    "p--m-<br />\n",
    "-----<br />\n",
    "-----<br />\n",
    "</p>\n",
    "\n",
    "### Sample output\n",
    "LEFT\n",
    "### Resultant State\n",
    "<p>\n",
    "-----<br />\n",
    "-----<br />\n",
    "p-m--<br />\n",
    "-----<br />\n",
    "-----<br />\n",
    "</p>\n",
    "\n",
    "### Task\n",
    "Complete the function nextMove which takes in 4 parameters - an integer N, integers r and c indicating the row & column position of the bot and the character array grid - and outputs the next move the bot makes to rescue the princess.\n",
    "### Explanation\n",
    "As you can see, bot is one step closer to the princess.\n",
    "### Scoring\n",
    "Your score for every testcase would be (NxN minus number of moves made to rescue the princess)/10 where N is the size of the grid (5x5 in the sample testcase). Maximum score is 17.5."
   ]
  },
  {
   "cell_type": "markdown",
   "metadata": {},
   "source": [
    "## Import needed libraries"
   ]
  },
  {
   "cell_type": "code",
   "execution_count": 1,
   "metadata": {},
   "outputs": [],
   "source": [
    "import random as rd"
   ]
  },
  {
   "cell_type": "markdown",
   "metadata": {},
   "source": [
    "### Function to define the Princess and BOT positions"
   ]
  },
  {
   "cell_type": "code",
   "execution_count": 2,
   "metadata": {},
   "outputs": [],
   "source": [
    "def getPosition(p,m):\n",
    "    while p == m:\n",
    "        p = [rd.randint(0,n),rd.randint(0,n)]\n",
    "        m = [rd.randint(0,n),rd.randint(0,n)]\n",
    "    return (p,m)"
   ]
  },
  {
   "cell_type": "markdown",
   "metadata": {},
   "source": [
    "### Function to build the grid"
   ]
  },
  {
   "cell_type": "code",
   "execution_count": 3,
   "metadata": {},
   "outputs": [],
   "source": [
    "def makeGridString(grid,space):\n",
    "    bot, princess ='m','p'\n",
    "    if m[1] != p[1]:\n",
    "        grid[m[1]] = space*(m[0])+bot+space*(n-len(space*(m[0])))\n",
    "        grid[p[1]] = space*(p[0])+princess+space*(n-len(space*(p[0])))\n",
    "    \n",
    "    elif m[0] < p[0]:\n",
    "        grid[m[1]] = space*m[0]+bot+space*(p[0]-m[0]-1)+princess+space*(n-p[0])\n",
    "    else:\n",
    "        grid[m[1]]=space*p[0]+princess+space*(m[0]-p[0]-1)+bot+space*(n-m[0])\n",
    "    if m!=p:   \n",
    "        print(*grid,sep='\\n')\n",
    "    return(grid)"
   ]
  },
  {
   "cell_type": "markdown",
   "metadata": {},
   "source": [
    "### Function to print de grid"
   ]
  },
  {
   "cell_type": "code",
   "execution_count": 4,
   "metadata": {},
   "outputs": [],
   "source": [
    "def printGrid(n,p,m):\n",
    "    grid = []\n",
    "    space = '-'\n",
    "    for j in range(n+1):\n",
    "        s:s= space*(n+1)\n",
    "        grid.append(s.strip())\n",
    "    if m!=p:\n",
    "        return(makeGridString(grid, space))"
   ]
  },
  {
   "cell_type": "markdown",
   "metadata": {},
   "source": [
    "### Function to update BOT position"
   ]
  },
  {
   "cell_type": "code",
   "execution_count": 5,
   "metadata": {},
   "outputs": [],
   "source": [
    "def updatePosition(m):\n",
    "    m[0]=m[0]-1 if step == 'LEFT' else m[0]+1 if step == 'RIGHT' else m[0]\n",
    "    m[1]=m[1]-1 if step == 'UP' else m[1]+1 if step == 'DOWN' else m[1]\n",
    "    return(m)"
   ]
  },
  {
   "cell_type": "markdown",
   "metadata": {},
   "source": [
    "### Function to print the next step"
   ]
  },
  {
   "cell_type": "code",
   "execution_count": 6,
   "metadata": {},
   "outputs": [],
   "source": [
    "def setStep(x,y,r,c):\n",
    "    if y-r < 0:\n",
    "        step = 'LEFT'\n",
    "        print(step)\n",
    "        return(step)\n",
    "    elif y-r > 0:\n",
    "        step ='RIGHT'\n",
    "        print(step)\n",
    "        return(step)\n",
    "    elif x-c > 0:\n",
    "        step = 'DOWN'\n",
    "        print(step)\n",
    "        return(step)\n",
    "    elif x-c < 0:\n",
    "        step = 'UP'\n",
    "        print(step)\n",
    "        return(step)\n",
    "    else:\n",
    "        print('You win!!\\nPrincess saved.')"
   ]
  },
  {
   "cell_type": "markdown",
   "metadata": {},
   "source": [
    "### Function to set the next move"
   ]
  },
  {
   "cell_type": "code",
   "execution_count": 7,
   "metadata": {},
   "outputs": [],
   "source": [
    "def nextMove(n,r,c,grid):\n",
    "    x,y=0,0\n",
    "    for i in range(n+1):\n",
    "        for j in range(n+1):\n",
    "            x:x=i if grid[i][j] == 'p' else x\n",
    "            y:y=j if grid[i][j] == 'p' else y\n",
    "    return(setStep(x,y,r,c))"
   ]
  },
  {
   "cell_type": "markdown",
   "metadata": {},
   "source": [
    "### Game start"
   ]
  },
  {
   "cell_type": "code",
   "execution_count": 8,
   "metadata": {},
   "outputs": [
    {
     "name": "stdout",
     "output_type": "stream",
     "text": [
      "------\n",
      "------\n",
      "------\n",
      "-p----\n",
      "---m--\n",
      "------\n",
      "LEFT\n",
      "------\n",
      "------\n",
      "------\n",
      "-p----\n",
      "--m---\n",
      "------\n",
      "LEFT\n",
      "------\n",
      "------\n",
      "------\n",
      "-p----\n",
      "-m----\n",
      "------\n",
      "UP\n",
      "You win!!\n",
      "Princess saved.\n"
     ]
    }
   ],
   "source": [
    "step = ''\n",
    "grid = []\n",
    "arr_test, p, m = [],[],[]\n",
    "n = rd.randrange(5,7,2)\n",
    "p,m=getPosition(p,m)\n",
    "\n",
    "grid = printGrid(n,p,m)\n",
    "step = nextMove(n,m[0],m[1],grid)\n",
    "while m != p:\n",
    "    m = updatePosition(m)\n",
    "    printGrid(n,p,m)\n",
    "    step = nextMove(n,m[0],m[1],grid) "
   ]
  }
 ],
 "metadata": {
  "kernelspec": {
   "display_name": "Python 3",
   "language": "python",
   "name": "python3"
  },
  "language_info": {
   "codemirror_mode": {
    "name": "ipython",
    "version": 3
   },
   "file_extension": ".py",
   "mimetype": "text/x-python",
   "name": "python",
   "nbconvert_exporter": "python",
   "pygments_lexer": "ipython3",
   "version": "3.7.6"
  }
 },
 "nbformat": 4,
 "nbformat_minor": 4
}
